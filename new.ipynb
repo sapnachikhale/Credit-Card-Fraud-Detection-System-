{
 "cells": [
  {
   "cell_type": "code",
   "execution_count": 3,
   "metadata": {},
   "outputs": [
    {
     "name": "stdout",
     "output_type": "stream",
     "text": [
      "Requirement already satisfied: pandas in c:\\users\\user\\appdata\\roaming\\python\\python310\\site-packages (2.2.0)\n",
      "Requirement already satisfied: numpy<2,>=1.22.4 in c:\\users\\user\\appdata\\roaming\\python\\python310\\site-packages (from pandas) (1.26.4)\n",
      "Requirement already satisfied: python-dateutil>=2.8.2 in c:\\users\\user\\appdata\\roaming\\python\\python310\\site-packages (from pandas) (2.8.2)\n",
      "Requirement already satisfied: pytz>=2020.1 in c:\\users\\user\\appdata\\roaming\\python\\python310\\site-packages (from pandas) (2024.1)\n",
      "Requirement already satisfied: tzdata>=2022.7 in c:\\users\\user\\appdata\\roaming\\python\\python310\\site-packages (from pandas) (2024.1)\n",
      "Requirement already satisfied: six>=1.5 in c:\\users\\user\\appdata\\roaming\\python\\python310\\site-packages (from python-dateutil>=2.8.2->pandas) (1.16.0)\n",
      "Note: you may need to restart the kernel to use updated packages.\n",
      "Requirement already satisfied: scikit-learn in c:\\users\\user\\appdata\\roaming\\python\\python310\\site-packages (1.4.1.post1)\n",
      "Requirement already satisfied: numpy<2.0,>=1.19.5 in c:\\users\\user\\appdata\\roaming\\python\\python310\\site-packages (from scikit-learn) (1.26.4)\n",
      "Requirement already satisfied: scipy>=1.6.0 in c:\\users\\user\\appdata\\roaming\\python\\python310\\site-packages (from scikit-learn) (1.12.0)\n",
      "Requirement already satisfied: joblib>=1.2.0 in c:\\users\\user\\appdata\\roaming\\python\\python310\\site-packages (from scikit-learn) (1.3.2)\n",
      "Requirement already satisfied: threadpoolctl>=2.0.0 in c:\\users\\user\\appdata\\roaming\\python\\python310\\site-packages (from scikit-learn) (3.3.0)\n",
      "Note: you may need to restart the kernel to use updated packages.\n",
      "Note: you may need to restart the kernel to use updated packages.\n"
     ]
    },
    {
     "name": "stderr",
     "output_type": "stream",
     "text": [
      "ERROR: Could not find a version that satisfies the requirement warnings (from versions: none)\n",
      "ERROR: No matching distribution found for warnings\n"
     ]
    },
    {
     "name": "stdout",
     "output_type": "stream",
     "text": [
      "Requirement already satisfied: joblib in c:\\users\\user\\appdata\\roaming\\python\\python310\\site-packages (1.3.2)\n",
      "Note: you may need to restart the kernel to use updated packages.\n"
     ]
    }
   ],
   "source": [
    "%pip install pandas\n",
    "%pip install scikit-learn\n",
    "%pip install warnings\n",
    "%pip install joblib"
   ]
  },
  {
   "cell_type": "markdown",
   "metadata": {},
   "source": [
    "Import Lybraries"
   ]
  },
  {
   "cell_type": "code",
   "execution_count": 14,
   "metadata": {},
   "outputs": [],
   "source": [
    "import pandas as pd\n",
    "from sklearn.model_selection import train_test_split\n",
    "from sklearn.ensemble import RandomForestClassifier\n",
    "from sklearn.metrics import accuracy_score, classification_report\n",
    "import warnings\n",
    "import joblib\n",
    "\n",
    "warnings.filterwarnings(\"ignore\")"
   ]
  },
  {
   "cell_type": "markdown",
   "metadata": {},
   "source": [
    "Import dataset"
   ]
  },
  {
   "cell_type": "code",
   "execution_count": 18,
   "metadata": {},
   "outputs": [],
   "source": [
    "def import_dataset(file_path):\n",
    "    return pd.read_csv(file_path)\n",
    "file_path = \"final-dataset.csv\""
   ]
  },
  {
   "cell_type": "markdown",
   "metadata": {},
   "source": [
    "print dataset"
   ]
  },
  {
   "cell_type": "code",
   "execution_count": 19,
   "metadata": {},
   "outputs": [
    {
     "name": "stdout",
     "output_type": "stream",
     "text": [
      "                          cc_num                         merchant  \\\n",
      "0               3587960728692500           fraud_Simonis-Prohaska   \n",
      "1  38797410180040027502291705641            fraud_Crooks and Sons   \n",
      "2               2714019737356678  fraud_Ruecker, Beer and Collier   \n",
      "3                            NaN       fraud_Rippin, Kub and Mann   \n",
      "4                   639046421587                fraud_Gerlach Inc   \n",
      "\n",
      "        category gender    zip      lat     long  city_pop  \\\n",
      "0       misc_pos      F  51006  42.3327 -95.6045      1075   \n",
      "1  personal_care      M  12460  42.4069 -74.1528       277   \n",
      "2   shopping_net      F  15377  39.9914 -80.4408       724   \n",
      "3       misc_net      F  10162  40.7699 -73.9511   1577385   \n",
      "4   shopping_net      M  15056  40.5662 -80.2099      1140   \n",
      "\n",
      "                        job         dob                         trans_num  \\\n",
      "0  Teacher, early years/pre  1997-01-02  e97f0f162190b827e1bfebe86dd67685   \n",
      "1     Glass blower/designer  1971-12-12  5432ea783668505d2d343ccba5c78029   \n",
      "2        Theme park manager  1995-08-30  9848478758f1a3d08e475cc30787a5bf   \n",
      "3    Audiological scientist  1957-12-29  7c646e95b7ce0f284a9aada19d5c9fdc   \n",
      "4  Administrator, education  1986-06-20  4fb62e1e354c4444603edb1b136e0a35   \n",
      "\n",
      "   is_fraud  \n",
      "0         0  \n",
      "1         0  \n",
      "2         1  \n",
      "3         1  \n",
      "4         1  \n"
     ]
    }
   ],
   "source": [
    "\n",
    "dataset = import_dataset(file_path)\n",
    "print(dataset.head())"
   ]
  },
  {
   "cell_type": "markdown",
   "metadata": {},
   "source": [
    "Feature extraction"
   ]
  },
  {
   "cell_type": "code",
   "execution_count": 20,
   "metadata": {},
   "outputs": [],
   "source": [
    "def extract_features(data):\n",
    "    # Convert categorical variables into numerical representations using one-hot encoding\n",
    "    data = pd.get_dummies(data, columns=['merchant', 'category', 'gender', 'job'])\n",
    "    # Assuming 'dob' and 'trans_num' columns are not needed for training, remove them\n",
    "    data = data.drop(columns=['dob', 'trans_num'])\n",
    "    return data"
   ]
  },
  {
   "cell_type": "markdown",
   "metadata": {},
   "source": [
    "Extract features"
   ]
  },
  {
   "cell_type": "code",
   "execution_count": 21,
   "metadata": {},
   "outputs": [
    {
     "name": "stdout",
     "output_type": "stream",
     "text": [
      "                          cc_num    zip      lat     long  city_pop  \\\n",
      "0               3587960728692500  51006  42.3327 -95.6045      1075   \n",
      "1  38797410180040027502291705641  12460  42.4069 -74.1528       277   \n",
      "2               2714019737356678  15377  39.9914 -80.4408       724   \n",
      "3                            NaN  10162  40.7699 -73.9511   1577385   \n",
      "4                   639046421587  15056  40.5662 -80.2099      1140   \n",
      "\n",
      "   merchant_fraud_Abbott-Rogahn  merchant_fraud_Abbott-Steuber  \\\n",
      "0                         False                          False   \n",
      "1                         False                          False   \n",
      "2                         False                          False   \n",
      "3                         False                          False   \n",
      "4                         False                          False   \n",
      "\n",
      "   merchant_fraud_Abernathy and Sons  merchant_fraud_Abshire PLC  \\\n",
      "0                              False                       False   \n",
      "1                              False                       False   \n",
      "2                              False                       False   \n",
      "3                              False                       False   \n",
      "4                              False                       False   \n",
      "\n",
      "   merchant_fraud_Adams, Kovacek and Kuhlman  ...  job_Video editor  \\\n",
      "0                                      False  ...             False   \n",
      "1                                      False  ...             False   \n",
      "2                                      False  ...             False   \n",
      "3                                      False  ...             False   \n",
      "4                                      False  ...             False   \n",
      "\n",
      "   job_Visual merchandiser  job_Volunteer coordinator  job_Warden/ranger  \\\n",
      "0                    False                      False              False   \n",
      "1                    False                      False              False   \n",
      "2                    False                      False              False   \n",
      "3                    False                      False              False   \n",
      "4                    False                      False              False   \n",
      "\n",
      "   job_Waste management officer  job_Water engineer  \\\n",
      "0                         False               False   \n",
      "1                         False               False   \n",
      "2                         False               False   \n",
      "3                         False               False   \n",
      "4                         False               False   \n",
      "\n",
      "   job_Water quality scientist  job_Web designer  job_Wellsite geologist  \\\n",
      "0                        False             False                   False   \n",
      "1                        False             False                   False   \n",
      "2                        False             False                   False   \n",
      "3                        False             False                   False   \n",
      "4                        False             False                   False   \n",
      "\n",
      "   job_Writer  \n",
      "0       False  \n",
      "1       False  \n",
      "2       False  \n",
      "3       False  \n",
      "4       False  \n",
      "\n",
      "[5 rows x 1192 columns]\n",
      "0    0\n",
      "1    0\n",
      "2    1\n",
      "3    1\n",
      "4    1\n",
      "Name: is_fraud, dtype: int64\n"
     ]
    }
   ],
   "source": [
    "X = extract_features(dataset.drop(columns=['is_fraud']))\n",
    "y = dataset['is_fraud']\n",
    "print(X.head())\n",
    "print(y.head())"
   ]
  },
  {
   "cell_type": "markdown",
   "metadata": {},
   "source": [
    "Train the Random Forest Model"
   ]
  },
  {
   "cell_type": "code",
   "execution_count": 22,
   "metadata": {},
   "outputs": [],
   "source": [
    "def train_model(X_train, y_train):\n",
    "    model = RandomForestClassifier(random_state=42)\n",
    "    model.fit(X_train, y_train)\n",
    "    return model"
   ]
  },
  {
   "cell_type": "markdown",
   "metadata": {},
   "source": [
    "Split data into training and testing sets"
   ]
  },
  {
   "cell_type": "code",
   "execution_count": 23,
   "metadata": {},
   "outputs": [],
   "source": [
    "X_train, X_test, y_train, y_test = train_test_split(X, y, test_size=0.2, random_state=42)\n",
    "\n",
    "model = train_model(X_train, y_train)"
   ]
  },
  {
   "cell_type": "markdown",
   "metadata": {},
   "source": [
    "Model Evaluation"
   ]
  },
  {
   "cell_type": "code",
   "execution_count": 24,
   "metadata": {},
   "outputs": [],
   "source": [
    "\n",
    "def evaluate_model(model, X_test, y_test):\n",
    "    y_pred = model.predict(X_test)\n",
    "    accuracy = accuracy_score(y_test, y_pred)\n",
    "    report = classification_report(y_test, y_pred)\n",
    "    return accuracy, report"
   ]
  },
  {
   "cell_type": "markdown",
   "metadata": {},
   "source": [
    "Model Evaluation - Accuracy"
   ]
  },
  {
   "cell_type": "code",
   "execution_count": 25,
   "metadata": {},
   "outputs": [
    {
     "name": "stdout",
     "output_type": "stream",
     "text": [
      "Accuracy: 0.9072337575351641\n",
      "Classification Report:\n",
      "              precision    recall  f1-score   support\n",
      "\n",
      "           0       0.92      0.98      0.95      2688\n",
      "           1       0.59      0.23      0.33       298\n",
      "\n",
      "    accuracy                           0.91      2986\n",
      "   macro avg       0.75      0.61      0.64      2986\n",
      "weighted avg       0.89      0.91      0.89      2986\n",
      "\n"
     ]
    }
   ],
   "source": [
    "accuracy = accuracy_score(y_test, model.predict(X_test))\n",
    "print(\"Accuracy:\", accuracy)\n",
    "print(\"Classification Report:\")\n",
    "report = classification_report(y_test, model.predict(X_test))\n",
    "print(report)\n"
   ]
  },
  {
   "cell_type": "markdown",
   "metadata": {},
   "source": [
    "Save the trained model"
   ]
  },
  {
   "cell_type": "code",
   "execution_count": 26,
   "metadata": {},
   "outputs": [
    {
     "name": "stdout",
     "output_type": "stream",
     "text": [
      "Model saved as fraud_detection_model.pkl\n"
     ]
    }
   ],
   "source": [
    "joblib.dump(model, 'fraud_detection_model.pkl')\n",
    "print(\"Model saved as fraud_detection_model.pkl\")"
   ]
  },
  {
   "cell_type": "markdown",
   "metadata": {},
   "source": [
    "Input Fields for Prediction"
   ]
  },
  {
   "cell_type": "code",
   "execution_count": 27,
   "metadata": {},
   "outputs": [],
   "source": [
    "def input_field(X):\n",
    "    # Prompt the user to input all the required fields\n",
    "    cc_num = input(\"Enter credit card number: \")\n",
    "    merchant = input(\"Enter merchant: \")\n",
    "    category = input(\"Enter category: \")\n",
    "    gender = input(\"Enter gender (M/F): \")\n",
    "    zip_code = input(\"Enter zip code: \")\n",
    "    lat = input(\"Enter latitude: \")\n",
    "    long = input(\"Enter longitude: \")\n",
    "    city_pop = input(\"Enter city population: \")\n",
    "    job = input(\"Enter job: \")\n",
    "    dob = input(\"Enter date of birth (YYYY-MM-DD): \")\n",
    "    trans_num = input(\"Enter transaction number: \")\n",
    "\n",
    "    # Create a DataFrame with the input data\n",
    "    input_data = pd.DataFrame({\n",
    "        'cc_num': [cc_num],\n",
    "        'merchant': [merchant],\n",
    "        'category': [category],\n",
    "        'gender': [gender],\n",
    "        'zip': [zip_code],\n",
    "        'lat': [lat],\n",
    "        'long': [long],\n",
    "        'city_pop': [city_pop],\n",
    "        'job': [job],\n",
    "        'dob': [dob],\n",
    "        'trans_num': [trans_num]\n",
    "    })\n",
    "\n",
    "    # Perform feature extraction (one-hot encoding and dropping unnecessary columns)\n",
    "    input_data = extract_features(input_data)\n",
    "\n",
    "    # Ensure all columns present during training are present in input data\n",
    "    missing_cols = set(X.columns) - set(input_data.columns)\n",
    "    for col in missing_cols:\n",
    "        input_data[col] = 0\n",
    "\n",
    "    # Reorder columns to match training data\n",
    "    input_data = input_data[X.columns]\n",
    "\n",
    "    return input_data\n"
   ]
  },
  {
   "cell_type": "markdown",
   "metadata": {},
   "source": [
    "Predict and Show Output"
   ]
  },
  {
   "cell_type": "code",
   "execution_count": 28,
   "metadata": {},
   "outputs": [
    {
     "name": "stdout",
     "output_type": "stream",
     "text": [
      "Prediction: Secure\n"
     ]
    }
   ],
   "source": [
    "def predict_show_output(model, input_data):\n",
    "    prediction = model.predict(input_data)\n",
    "    return \"Not fraud\" if prediction[0] == 0 else \"Fraud\"\n",
    "\n",
    "# Get prediction for user input\n",
    "input_data = input_field(X)\n",
    "output = predict_show_output(model, input_data)\n",
    "print(\"Prediction:\", output)"
   ]
  }
 ],
 "metadata": {
  "kernelspec": {
   "display_name": "Python 3",
   "language": "python",
   "name": "python3"
  },
  "language_info": {
   "codemirror_mode": {
    "name": "ipython",
    "version": 3
   },
   "file_extension": ".py",
   "mimetype": "text/x-python",
   "name": "python",
   "nbconvert_exporter": "python",
   "pygments_lexer": "ipython3",
   "version": "3.10.4"
  }
 },
 "nbformat": 4,
 "nbformat_minor": 2
}
